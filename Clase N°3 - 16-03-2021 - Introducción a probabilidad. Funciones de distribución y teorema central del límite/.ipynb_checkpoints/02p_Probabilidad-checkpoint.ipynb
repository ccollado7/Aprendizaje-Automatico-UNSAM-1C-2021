{
 "cells": [
  {
   "cell_type": "markdown",
   "metadata": {
    "id": "zYfU9a-XL4Uz"
   },
   "source": [
    "En este Notebook  vamos a explorar un poco los conceptos de aleatoreidad y probabilidad en Python"
   ]
  },
  {
   "cell_type": "markdown",
   "metadata": {
    "id": "nxwLR7oTMouW"
   },
   "source": [
    "# Importamos lo necesario"
   ]
  },
  {
   "cell_type": "code",
   "execution_count": 1,
   "metadata": {
    "id": "uF5tQ5DeK0Sc"
   },
   "outputs": [],
   "source": [
    "import numpy as np\n",
    "from math import sqrt\n",
    "from matplotlib import pylab as plt"
   ]
  },
  {
   "cell_type": "markdown",
   "metadata": {
    "id": "iCLauPLFMrkf"
   },
   "source": [
    "# Aleatoriedad"
   ]
  },
  {
   "cell_type": "markdown",
   "metadata": {
    "id": "xV7rsk3JMx_N"
   },
   "source": [
    "La aleatoredidad es un concepto central de la teoría de probabilidad. En general, la aleatoredidad viene asociada con la incetidumbre, que puede surgir por los errores de los datos o por los tamaños finitos de las muestras.\n",
    "\n",
    "En la computadora, la aleatoreidad se simula usando como base un generador de números pseudo aleatorios (GNPA). Un GNPA genera una serie de números cuyas propiedades son similares a las de una serie de números aleatorios.\n",
    "\n",
    "En python muchas de las funciones relacionadas están implementadas en el módulo random, pero una implementación más práctica aparece en el paquete numpy"
   ]
  },
  {
   "cell_type": "code",
   "execution_count": 2,
   "metadata": {
    "id": "9I8QCDpwMq47"
   },
   "outputs": [],
   "source": [
    "from numpy import random"
   ]
  },
  {
   "cell_type": "markdown",
   "metadata": {
    "id": "81YNPvc2M_8b"
   },
   "source": [
    "Podemos generar un numero al azar entre 0 y 1 facilmente"
   ]
  },
  {
   "cell_type": "code",
   "execution_count": 4,
   "metadata": {
    "id": "11mMY_GNM3QK"
   },
   "outputs": [
    {
     "data": {
      "text/plain": [
       "0.2301919751368352"
      ]
     },
     "execution_count": 4,
     "metadata": {},
     "output_type": "execute_result"
    }
   ],
   "source": [
    "random.rand()"
   ]
  },
  {
   "cell_type": "markdown",
   "metadata": {
    "id": "6GWjFrdCNF8d"
   },
   "source": [
    "Si corren la celda de arriba muchas veces, el resultado obtenido es diferente, pero siempre un número entre 0 y 1. Pero en realidad, los GNPA utilizan algoritmos, cuyas propiedades estás perfectamente definidas por el valor inicial (la semilla, o <em>seed</em>). Por lo tanto, no son realmente aleatorios."
   ]
  },
  {
   "cell_type": "code",
   "execution_count": 5,
   "metadata": {
    "id": "svsPZlO0NEf_"
   },
   "outputs": [
    {
     "name": "stdout",
     "output_type": "stream",
     "text": [
      "0.1915194503788923\n",
      "0.1915194503788923\n"
     ]
    }
   ],
   "source": [
    "random.seed(1234)\n",
    "print(random.rand())\n",
    "random.seed(1234)\n",
    "print(random.rand())"
   ]
  },
  {
   "cell_type": "markdown",
   "metadata": {
    "id": "aotTdfQzN969"
   },
   "source": [
    "Una característica práctica de la implementación en <tt>numpy</tt> es que se puede generar <tt>arrays</tt> de números aleatorios, pasándole el tamaño en cada dimensión. Esto puede ahorrarnos bastante tiempo"
   ]
  },
  {
   "cell_type": "code",
   "execution_count": 6,
   "metadata": {
    "id": "KjRlDb7CN9JP"
   },
   "outputs": [
    {
     "name": "stdout",
     "output_type": "stream",
     "text": [
      "Un array de 5x1\n",
      "[0.19151945 0.62210877 0.43772774 0.78535858 0.77997581]\n",
      "Un array de 3x2\n",
      "[[0.27259261 0.27646426]\n",
      " [0.80187218 0.95813935]\n",
      " [0.87593263 0.35781727]]\n"
     ]
    }
   ],
   "source": [
    "random.seed(1234)\n",
    "print('Un array de 5x1')\n",
    "print(random.rand(5,))\n",
    "print('Un array de 3x2')\n",
    "print(random.rand(3,2))"
   ]
  },
  {
   "cell_type": "markdown",
   "metadata": {
    "id": "HU-WGvY7OKRu"
   },
   "source": [
    "Y por supuesto, si vuelvo a la misma semilla, los resultado son idénticos."
   ]
  },
  {
   "cell_type": "code",
   "execution_count": 7,
   "metadata": {
    "id": "8dlMzlh-OFki"
   },
   "outputs": [
    {
     "name": "stdout",
     "output_type": "stream",
     "text": [
      "Un array de 5x1\n",
      "[0.19151945 0.62210877 0.43772774 0.78535858 0.77997581]\n",
      "Un array de 3x2\n",
      "[[0.27259261 0.27646426]\n",
      " [0.80187218 0.95813935]\n",
      " [0.87593263 0.35781727]]\n"
     ]
    }
   ],
   "source": [
    "random.seed(1234)\n",
    "print('Un array de 5x1')\n",
    "print(random.rand(5,))\n",
    "print('Un array de 3x2')\n",
    "print(random.rand(3,2))"
   ]
  },
  {
   "cell_type": "markdown",
   "metadata": {
    "id": "01HX5VUEOTMl"
   },
   "source": [
    "Como se puede ver arriba, para una semilla dada, la serie de números generada es idéntica. En la actualidad, fijar el <em>seed</em> de la manera que aparece arriba se considera mala práctica, y la sugerencia es hacer lo siguiente:"
   ]
  },
  {
   "cell_type": "code",
   "execution_count": 8,
   "metadata": {
    "id": "kBHcrH39OOHz"
   },
   "outputs": [
    {
     "name": "stdout",
     "output_type": "stream",
     "text": [
      "[0.12038356 0.40370142 0.87770263 0.9565788  0.42646002]\n",
      "[0.12038356 0.40370142 0.87770263 0.9565788  0.42646002]\n"
     ]
    }
   ],
   "source": [
    "from numpy.random import RandomState, SeedSequence\n",
    "rs = RandomState(random.MT19937(SeedSequence(1234)))\n",
    "print(rs.rand(5,))\n",
    "# Later, you want to restart the stream\n",
    "rs = RandomState(random.MT19937(SeedSequence(1234)))\n",
    "print(rs.rand(5,))"
   ]
  },
  {
   "cell_type": "markdown",
   "metadata": {
    "id": "Hq-T9HmBOdMl"
   },
   "source": [
    "De esta manera, se puede tener generadores independientes, inicializados de manera diferente, cosa que no podía hacerse antes.\n"
   ]
  },
  {
   "cell_type": "markdown",
   "metadata": {
    "id": "E3oa50peOeLw"
   },
   "source": [
    "# Probabilidad"
   ]
  },
  {
   "cell_type": "markdown",
   "metadata": {
    "id": "eDtVW5k3Of6p"
   },
   "source": [
    "Pero... que significa que `numpy.random.rand()` genere numeros al azar entre [0, 1)?\n",
    "\n",
    "La variable aleatoria $x$ sigue una distribucion **uniforme** en [0.0, 1.0).\n",
    "\n",
    "Podemos caracterizar una distribucion uniforme en [a,b) definiendo su densidad de probabilidad como:\n",
    "\n",
    "$p(x)=\\frac{1}{b-a}$ si $a \\leq x < b$\n",
    "\n",
    "$p(x)=0$ si $a > x$ o $ b \\leq x$\n"
   ]
  },
  {
   "cell_type": "markdown",
   "metadata": {
    "id": "OCIqXQ3wPysp"
   },
   "source": [
    "Como comprobamos que $x$ sigue una distribuccion uniforme?\n",
    "\n",
    "Bueno, podemos generar N tiradas y aprovechar que tenemos N variables independientes identicamente distribuidas para obtener los momentos de $x$. Si los momentos son los de la distribucion uniforme, gane.\n",
    "\n",
    "Calculemos para N = 10 la media y la desviacion estandar de $x$, puede hacerlo a mano o utilizando `np.mean` y `np.std` y comparen con los resultados esperados sabiendo que\n",
    "\n",
    "$\\mu = \\int p(x)x dx = \\int_{a}^{b}\\frac{x}{b-a}dx=\\frac{b^{2}-a^{2}}{2(b-a)}=\\frac{b+a}{2}$\n",
    "\n",
    "$\\sigma^{2}=\\int p(x)(x-\\mu)^{2}dx = \\frac{1}{b-a}\\int_{a}^{b}(x-\\frac{a+b}{2})^{2}dx = \\frac{1}{b-a}\\int_{-(b-a)/2}^{(b-a)/2}u^{2}du=\\frac{(b-a)^{2}}{12}$\n",
    "\n",
    "\n",
    "Notese que estamos haciendo la aproximacion\n",
    "\n",
    "$\\mu \\approx \\frac{1}{N}\\sum_{n=1}^{N}x_{n}$\n",
    "\n",
    "$\\sigma^{2} \\approx \\frac{1}{N}\\sum_{n=1}^{N}(x_{n}-\\mu)^{2}$\n"
   ]
  },
  {
   "cell_type": "markdown",
   "metadata": {
    "id": "8MVooPnqS44j"
   },
   "source": [
    "## Ejercicio"
   ]
  },
  {
   "cell_type": "code",
   "execution_count": 43,
   "metadata": {},
   "outputs": [],
   "source": [
    "N=10\n",
    "n_10 = np.random.rand(N)"
   ]
  },
  {
   "cell_type": "code",
   "execution_count": 24,
   "metadata": {},
   "outputs": [],
   "source": [
    "def lista():\n",
    "    lista = []\n",
    "    for i in range(10):\n",
    "        numero = np.random.rand()\n",
    "        lista.append(numero)\n",
    "    return lista"
   ]
  },
  {
   "cell_type": "code",
   "execution_count": 36,
   "metadata": {},
   "outputs": [
    {
     "data": {
      "text/plain": [
       "[0.3709268274575275,\n",
       " 0.4467401517308447,\n",
       " 0.4151082201975932,\n",
       " 0.4803885080134066,\n",
       " 0.9833235733884662,\n",
       " 0.37342370735353736,\n",
       " 0.012406981727713595,\n",
       " 0.9219033377990289,\n",
       " 0.873276070344208,\n",
       " 0.35174682158758874]"
      ]
     },
     "execution_count": 36,
     "metadata": {},
     "output_type": "execute_result"
    }
   ],
   "source": [
    "a = lista()\n",
    "a"
   ]
  },
  {
   "cell_type": "code",
   "execution_count": 44,
   "metadata": {},
   "outputs": [
    {
     "data": {
      "text/plain": [
       "0.37156540405226923"
      ]
     },
     "execution_count": 44,
     "metadata": {},
     "output_type": "execute_result"
    }
   ],
   "source": [
    "np.mean(n_10)"
   ]
  },
  {
   "cell_type": "code",
   "execution_count": 45,
   "metadata": {},
   "outputs": [
    {
     "data": {
      "text/plain": [
       "0.3027735479280262"
      ]
     },
     "execution_count": 45,
     "metadata": {},
     "output_type": "execute_result"
    }
   ],
   "source": [
    "np.std(n_10)"
   ]
  },
  {
   "cell_type": "code",
   "execution_count": 46,
   "metadata": {},
   "outputs": [
    {
     "data": {
      "text/plain": [
       "0.4516644830367082"
      ]
     },
     "execution_count": 46,
     "metadata": {},
     "output_type": "execute_result"
    }
   ],
   "source": [
    "media_esperada_n10 = (min(n_10) + max(n_10)) / 2\n",
    "media_esperada_n10"
   ]
  },
  {
   "cell_type": "code",
   "execution_count": 47,
   "metadata": {},
   "outputs": [
    {
     "data": {
      "text/plain": [
       "0.2595045423895353"
      ]
     },
     "execution_count": 47,
     "metadata": {},
     "output_type": "execute_result"
    }
   ],
   "source": [
    "desviacion_estandar_n10 = sqrt(((max(n_10) - min(n_10))**2) / 12)\n",
    "desviacion_estandar_n10"
   ]
  },
  {
   "cell_type": "code",
   "execution_count": 48,
   "metadata": {},
   "outputs": [],
   "source": [
    "N=10000\n",
    "n_10000 = np.random.rand(N)"
   ]
  },
  {
   "cell_type": "code",
   "execution_count": 49,
   "metadata": {},
   "outputs": [
    {
     "data": {
      "text/plain": [
       "0.49956279944127746"
      ]
     },
     "execution_count": 49,
     "metadata": {},
     "output_type": "execute_result"
    }
   ],
   "source": [
    "np.mean(n_10000)"
   ]
  },
  {
   "cell_type": "code",
   "execution_count": 50,
   "metadata": {},
   "outputs": [
    {
     "data": {
      "text/plain": [
       "0.28975245416448414"
      ]
     },
     "execution_count": 50,
     "metadata": {},
     "output_type": "execute_result"
    }
   ],
   "source": [
    "np.std(n_10000)"
   ]
  },
  {
   "cell_type": "code",
   "execution_count": 51,
   "metadata": {},
   "outputs": [
    {
     "data": {
      "text/plain": [
       "0.4999948170661132"
      ]
     },
     "execution_count": 51,
     "metadata": {},
     "output_type": "execute_result"
    }
   ],
   "source": [
    "media_esperada_n10000 = (min(n_10000) + max(n_10000)) / 2\n",
    "media_esperada_n10000"
   ]
  },
  {
   "cell_type": "code",
   "execution_count": 52,
   "metadata": {},
   "outputs": [
    {
     "data": {
      "text/plain": [
       "0.2886571828769199"
      ]
     },
     "execution_count": 52,
     "metadata": {},
     "output_type": "execute_result"
    }
   ],
   "source": [
    "desviacion_estandar_n10000 = sqrt(((max(n_10000) - min(n_10000))**2) / 12)\n",
    "desviacion_estandar_n10000"
   ]
  },
  {
   "cell_type": "code",
   "execution_count": 54,
   "metadata": {},
   "outputs": [],
   "source": [
    "lista_media = []\n",
    "lista_desvio = []\n",
    "\n",
    "for i in [10,100,1000,10000,100000,1000000]:\n",
    "    lista = np.random.rand(i)\n",
    "    media = np.mean(lista)\n",
    "    lista_media.append(media)\n",
    "    \n",
    "    desvio = np.std(lista)\n",
    "    lista_desvio.append(desvio)"
   ]
  },
  {
   "cell_type": "code",
   "execution_count": 59,
   "metadata": {},
   "outputs": [
    {
     "data": {
      "text/plain": [
       "Text(0.5, 1.0, 'Media')"
      ]
     },
     "execution_count": 59,
     "metadata": {},
     "output_type": "execute_result"
    },
    {
     "data": {
      "image/png": "[encoded data removed]",
      "text/plain": [
       "<Figure size 432x288 with 1 Axes>"
      ]
     },
     "metadata": {
      "needs_background": "light"
     },
     "output_type": "display_data"
    }
   ],
   "source": [
    "plt.plot(lista_media)\n",
    "plt.title('Media')"
   ]
  },
  {
   "cell_type": "code",
   "execution_count": 60,
   "metadata": {},
   "outputs": [
    {
     "data": {
      "text/plain": [
       "Text(0.5, 1.0, 'Desvio')"
      ]
     },
     "execution_count": 60,
     "metadata": {},
     "output_type": "execute_result"
    },
    {
     "data": {
      "image/png": "[encoded data removed]",
      "text/plain": [
       "<Figure size 432x288 with 1 Axes>"
      ]
     },
     "metadata": {
      "needs_background": "light"
     },
     "output_type": "display_data"
    }
   ],
   "source": [
    "plt.plot(lista_desvio)\n",
    "plt.title('Desvio')"
   ]
  },
  {
   "cell_type": "markdown",
   "metadata": {
    "id": "DNJzi1G5S-zW"
   },
   "source": [
    "### Seguimos"
   ]
  },
  {
   "cell_type": "markdown",
   "metadata": {
    "id": "YKsEQtRPSe84"
   },
   "source": [
    "Que esta pasando?\n",
    "\n",
    "En efecto,  los estimadores no dan exactamente lo que esperamos. Como mejorar esto?\n",
    "\n",
    "Probemos con N = 10000"
   ]
  },
  {
   "cell_type": "code",
   "execution_count": null,
   "metadata": {
    "id": "0qt7WLzWSRnB"
   },
   "outputs": [],
   "source": [
    "N=10000\n",
    "experimentos=random.rand(N)\n",
    "print(np.mean(experimentos),np.std(experimentos))"
   ]
  },
  {
   "cell_type": "markdown",
   "metadata": {
    "id": "6atftHnISyfa"
   },
   "source": [
    "Mucho mas cerca...\n",
    "\n",
    "Ahora, grafiquen la media y la desviacion estandar en funcion de N, para de N = 10, 100, 1000, 10000, 100000, 1000000"
   ]
  },
  {
   "cell_type": "markdown",
   "metadata": {
    "id": "E7ItGXYHTCNt"
   },
   "source": [
    "### Otro ejercicio"
   ]
  },
  {
   "cell_type": "code",
   "execution_count": null,
   "metadata": {
    "id": "clH_vVtASxBp"
   },
   "outputs": [],
   "source": []
  },
  {
   "cell_type": "code",
   "execution_count": null,
   "metadata": {
    "id": "Xn0riQ3ZTnmi"
   },
   "outputs": [],
   "source": []
  },
  {
   "cell_type": "markdown",
   "metadata": {
    "id": "rJfLxnC7UMrc"
   },
   "source": [
    "### Seguimos"
   ]
  },
  {
   "cell_type": "markdown",
   "metadata": {
    "id": "-eNsNWYFU4Q3"
   },
   "source": [
    "Ademas de comparar momentos, podemos visualizar las mediciones. Una opcion es usar un box plot, donde se muestran los cuantiles de los datos"
   ]
  },
  {
   "cell_type": "code",
   "execution_count": null,
   "metadata": {
    "id": "Qx5lIW7UTpKA"
   },
   "outputs": [],
   "source": [
    "from matplotlib.pyplot import boxplot\n",
    "\n",
    "data = [experimentos[:m] for m in [10,100,1000,10000,100000,1000000]]\n",
    "fig, ax = plt.subplots()\n",
    "ax.set_title('Multiple Samples with Different sizes')\n",
    "ax.boxplot(data)\n",
    "fig.show()"
   ]
  },
  {
   "cell_type": "markdown",
   "metadata": {
    "id": "9lCWp4wMV2q6"
   },
   "source": [
    "La opcion que vamos a preferir en la materia es utilizar histogramas.\n",
    "\n",
    "Los histogramas separan el rango de variable aleatoria en M bines. Luego, cuentan cuantos eventos caen en cada bin. Al hacer los histogramas, suele ser mas seguro definir los bines de antemano. Por ejemplo, con `np.linspace` o `np.range`.\n"
   ]
  },
  {
   "cell_type": "code",
   "execution_count": null,
   "metadata": {
    "id": "pjNMTR8GVsmr"
   },
   "outputs": [],
   "source": [
    "bins=np.linspace(0.0,1.0,10)\n",
    "for dato in data:\n",
    "  plt.hist(dato,bins=bins,color='blue',alpha=0.4)\n",
    "  plt.xlabel('$x$')\n",
    "  plt.ylabel('$N_{\\text{eventos}}$')\n",
    "  plt.title('Histograma para '+str(len(dato))+' mediciones')\n",
    "  plt.show()"
   ]
  },
  {
   "cell_type": "markdown",
   "metadata": {
    "id": "qjynrl3BXWii"
   },
   "source": [
    "Podemos normalizar los histogramas para que la suma de todos los conteos de 1. Una ventaja de esto es que podemos comparar con la distribucion de probabilidad."
   ]
  },
  {
   "cell_type": "code",
   "execution_count": null,
   "metadata": {
    "id": "1h82pbpcWUr1"
   },
   "outputs": [],
   "source": [
    "bins=np.linspace(0.0,1.0,10)\n",
    "for dato in data:\n",
    "  plt.hist(dato,bins=bins,color='blue',alpha=0.4,density='True')\n",
    "  plt.plot(bins,[(1.0/(b-a)) for i in range(len(bins))], color='black', linestyle='dotted')\n",
    "  plt.xlabel('$x$')\n",
    "  plt.ylabel('$N_{\\text{eventos}}$')\n",
    "  plt.title('Histograma para '+str(len(dato))+' mediciones')\n",
    "  plt.show()"
   ]
  },
  {
   "cell_type": "markdown",
   "metadata": {
    "id": "jExchur6Xr-1"
   },
   "source": [
    "Noten que p(x)>1.0 para algunos bines. Esto no es errado por que estamos con una pdf, no una pmf, aunque los bines sean discretos. Otra diferencia entre pdf y pmf es que, si sumamos:"
   ]
  },
  {
   "cell_type": "code",
   "execution_count": null,
   "metadata": {
    "id": "crdh3adRXknu"
   },
   "outputs": [],
   "source": [
    "binned_data, hist_bins, pp = plt.hist(data[0],bins=bins,color='blue',alpha=0.4,density='True')\n",
    "print(np.sum(binned_data))"
   ]
  },
  {
   "cell_type": "markdown",
   "metadata": {
    "id": "cwsF6S5jYBSA"
   },
   "source": [
    "No da 1! Eso es porque falto incluir el bineado"
   ]
  },
  {
   "cell_type": "code",
   "execution_count": null,
   "metadata": {
    "id": "d9ZRHFKbYANM"
   },
   "outputs": [],
   "source": [
    "np.sum(binned_data*(hist_bins[1]-hist_bins[0]))"
   ]
  },
  {
   "cell_type": "markdown",
   "metadata": {
    "id": "EELjW1CVYOUH"
   },
   "source": [
    "Esto no sucede para variables discretas, es una consecuencia de discretizar una variable continua y aproximar\n",
    "\n",
    "$\\int f(x)p(x)dx \\approx \\sum_{i=1}^{M}f(x_{i})p(x_{i})\\Delta_{i}$"
   ]
  },
  {
   "cell_type": "markdown",
   "metadata": {
    "id": "BrO6YztpZBMf"
   },
   "source": [
    "## Otras distribuciones"
   ]
  },
  {
   "cell_type": "markdown",
   "metadata": {
    "id": "o4ztpy0HZDLk"
   },
   "source": [
    "En la vida, y casi siempre, las variables  no siguen distribuciones uniformes. Como bien ejemplifico Rodrigo en clase, tenemos otras distribuciones tipicas. Por suerte, la gran mayoria de ellas estan implementadas en `scipy.stats`"
   ]
  },
  {
   "cell_type": "code",
   "execution_count": null,
   "metadata": {
    "id": "XoA9LVC6YLi7"
   },
   "outputs": [],
   "source": [
    "from scipy.stats import norm, beta, bernoulli, binom, multinomial,multivariate_normal, poisson, gamma #etc"
   ]
  },
  {
   "cell_type": "markdown",
   "metadata": {
    "id": "eQIkxtkvZfO-"
   },
   "source": [
    "Para variar un poco vayamos a alguna variable aleatoria discreta. Por ejemplo, la cantidad $k$ de veces que una moneda cargada con probabilidad $p$ sale cara (1) si la tiramos $N$ veces. Cada tirada sigue una distribucion de Bernoulli pero tambien podemos consiguerar la Binomial con $k$ exitos en $N$ tiradas, dado que son equivalentes.\n",
    "\n",
    "Los parametros de la distribucion que sigue la variable aleatoria $k$ son $N$ y $p$. Entonces, podemos definir una distribucion especifica como"
   ]
  },
  {
   "cell_type": "code",
   "execution_count": null,
   "metadata": {
    "id": "hVn8E8o9Zcyt"
   },
   "outputs": [],
   "source": [
    "N=10\n",
    "p=0.6\n",
    "mi_binomial=binom(p=p,n=N)"
   ]
  },
  {
   "cell_type": "markdown",
   "metadata": {
    "id": "MbjDVYjLak-V"
   },
   "source": [
    "$k$ puede tomar valores 0, 1, 2, ... ,10."
   ]
  },
  {
   "cell_type": "code",
   "execution_count": null,
   "metadata": {
    "id": "fExZLIk0aEDi"
   },
   "outputs": [],
   "source": [
    "k_values=np.arange(0,11,1)\n",
    "print(k_values)"
   ]
  },
  {
   "cell_type": "markdown",
   "metadata": {
    "id": "AkI_APJiavu1"
   },
   "source": [
    "Podemos ver la probabilidad de cada $k$ utilizando el metodo `pmf`"
   ]
  },
  {
   "cell_type": "code",
   "execution_count": null,
   "metadata": {
    "id": "KVWMDk1KaqUc"
   },
   "outputs": [],
   "source": [
    "for k in k_values:\n",
    "  print(k,mi_binomial.pmf(k))"
   ]
  },
  {
   "cell_type": "markdown",
   "metadata": {
    "id": "1Lt3dhvza7AT"
   },
   "source": [
    "Obviamente, es mas lindo graficarlo. Gracias a numpy, todo se lee intuitivamente"
   ]
  },
  {
   "cell_type": "code",
   "execution_count": null,
   "metadata": {
    "id": "bHs0WcNZa26z"
   },
   "outputs": [],
   "source": [
    "k_probs=mi_binomial.pmf(k_values)\n",
    "plt.scatter(k_values,k_probs)\n",
    "plt.xlabel('k')\n",
    "plt.ylabel('Binom(k|N,p)')"
   ]
  },
  {
   "cell_type": "markdown",
   "metadata": {
    "id": "i5S60y2sbOlx"
   },
   "source": [
    "Comprobemos la normalizacion!"
   ]
  },
  {
   "cell_type": "code",
   "execution_count": null,
   "metadata": {
    "id": "dtFOaKuAbFHi"
   },
   "outputs": [],
   "source": [
    "print(np.sum(k_probs))"
   ]
  },
  {
   "cell_type": "markdown",
   "metadata": {
    "id": "KEN-hnUTbfPf"
   },
   "source": [
    "Podemos generar datos a partir de esta distribucion utilizando el metodo `rvs`. Que son estos datos?"
   ]
  },
  {
   "cell_type": "code",
   "execution_count": null,
   "metadata": {
    "id": "u-xrspOtbRhj"
   },
   "outputs": [],
   "source": [
    "Nexp=1000000\n",
    "tiradas = mi_binomial.rvs(Nexp)"
   ]
  },
  {
   "cell_type": "markdown",
   "metadata": {
    "id": "5O-cVdyIbxl6"
   },
   "source": [
    "Repitamos lo que hicimos con la uniforme, calculemos los momentos sabiendo que\n",
    "\n",
    "$\\mu = \\sum_{k=0}^{N}k\\cdot p(k|N,p)=N\\cdot p$\n",
    "\n",
    "$\\sigma^{2} = N\\cdot p\\cdot (1-p)$\n",
    "\n",
    "Donde aca la sumatoria es exacta y no una aproximacion."
   ]
  },
  {
   "cell_type": "code",
   "execution_count": null,
   "metadata": {
    "id": "oL5473n2crIw"
   },
   "outputs": [],
   "source": [
    "media_esperada=N*p\n",
    "desviacion_estandar_esperada=np.sqrt(N*p*(1-p))\n",
    "print(media_esperada,desviacion_estandar_esperada)"
   ]
  },
  {
   "cell_type": "markdown",
   "metadata": {
    "id": "wbufMoKJcnzq"
   },
   "source": [
    "### Ejercicio"
   ]
  },
  {
   "cell_type": "code",
   "execution_count": null,
   "metadata": {
    "id": "KkgGsoiKbrxV"
   },
   "outputs": [],
   "source": []
  },
  {
   "cell_type": "markdown",
   "metadata": {
    "id": "0rST1owvelzP"
   },
   "source": [
    "### Seguimos"
   ]
  },
  {
   "cell_type": "markdown",
   "metadata": {
    "id": "9uYeLK7DexDB"
   },
   "source": [
    "Vamos con la Gaussiana, o distribucion Normal, $\\mathcal{N}(x|\\mu,\\sigma^{2})$"
   ]
  },
  {
   "cell_type": "code",
   "execution_count": null,
   "metadata": {
    "id": "ZcmawQmedhby"
   },
   "outputs": [],
   "source": [
    "mu=15.0\n",
    "sigma=2.0\n",
    "mi_gaussiana=norm(loc=mu,scale=sigma)"
   ]
  },
  {
   "cell_type": "markdown",
   "metadata": {
    "id": "E2Bq1gMlfEeK"
   },
   "source": [
    "Si queremos graficar la pdf de la gaussiana, podemos usar el metodo `pdf`"
   ]
  },
  {
   "cell_type": "code",
   "execution_count": null,
   "metadata": {
    "id": "M942nYTDfD79"
   },
   "outputs": [],
   "source": [
    "# valores posibles\n",
    "x = np.linspace(10.0,20.0,20)\n",
    "plt.plot(x,mi_gaussiana.pdf(x))\n",
    "plt.axvline(mu,color='black',linestyle='solid',label='$\\mu$')\n",
    "plt.axvline(mu-sigma,color='black',linestyle='dashed',label='$\\pm 1 s.d.$')\n",
    "plt.axvline(mu+sigma,color='black',linestyle='dashed')\n",
    "plt.axvline(mu-2.0*sigma,color='black',linestyle='dotted',label='$\\pm 2 s.d.$')\n",
    "plt.axvline(mu+2.0*sigma,color='black',linestyle='dotted')\n",
    "plt.xlabel('x')\n",
    "plt.legend(loc='upper right')\n",
    "plt.ylabel('$\\mathcal{N}(x|\\mu,\\sigma^{2})$')"
   ]
  },
  {
   "cell_type": "markdown",
   "metadata": {
    "id": "mwlxGQg6f2Ne"
   },
   "source": [
    "Si queremos generar datos a partir de la gaussiana, nuevamente tenemos el metodo `rvs`"
   ]
  },
  {
   "cell_type": "code",
   "execution_count": null,
   "metadata": {
    "id": "qcFTaGMwfPCM"
   },
   "outputs": [],
   "source": [
    "Nexp=1000000\n",
    "mediciones=mi_gaussiana.rvs(Nexp)"
   ]
  },
  {
   "cell_type": "markdown",
   "metadata": {
    "id": "9exXOE3QgJ3u"
   },
   "source": [
    "Y podemos hacer lo mismo que antes"
   ]
  },
  {
   "cell_type": "markdown",
   "metadata": {
    "id": "_f45ibZLgRBE"
   },
   "source": [
    "## Teorema Central del Limite"
   ]
  },
  {
   "cell_type": "markdown",
   "metadata": {
    "id": "Y2zYAlnCgXs9"
   },
   "source": [
    "Con lo que vimos ya podemos ejemplificar un poco el teorema central del limite.\n",
    "\n",
    "Comparemos una Binomial con p=0.6 y N yendo a infinito con una Gaussiana. La Gaussiana tendra siempre media $N\\cdot p$ y desviacion estandar $\\sqrt{N\\cdot p\\cdot (1-p)}$\n",
    "\n",
    "Noten que aca el limite no es el numero de experimentos sino en el numero de tiradas por experimento. Sin embargo, para tener datos representativos necesitamos muchos experimentos."
   ]
  },
  {
   "cell_type": "code",
   "execution_count": null,
   "metadata": {
    "id": "weoELWArhDqs"
   },
   "outputs": [],
   "source": [
    "p = 0.6\n",
    "N=[1,10,50,100]\n",
    "for n in N:\n",
    "  data=binom(p=p,n=n).rvs(50*n)\n",
    "  a, b, c = plt.hist(data,density='True')\n",
    "  mu=n*p\n",
    "  sigma=np.sqrt(n*p*(1-p))\n",
    "  x=np.linspace(mu-3*sigma,mu+3*sigma,30)\n",
    "  plt.plot(x,norm(loc=mu,scale=sigma).pdf(x))\n",
    "  plt.title('Comparacion con '+str(50*n)+' experimentos')\n",
    "  plt.show()"
   ]
  },
  {
   "cell_type": "markdown",
   "metadata": {
    "id": "vBOvtCNRgMvx"
   },
   "source": [
    "## Graficos 2d"
   ]
  },
  {
   "cell_type": "markdown",
   "metadata": {
    "id": "ayPVMmSBgTdk"
   },
   "source": [
    "Hasta ahora solo vimos distribuciones unidimensionales. La distribucion bidimensional que mas nos interesa es, como no, una gaussiana.\n",
    "\n",
    "Ahora tenemos $\\vec{\\mu}=(\\mu_{1},\\mu_{2})^{T}$ y $\\Sigma$ una matriz de 2x2"
   ]
  },
  {
   "cell_type": "code",
   "execution_count": null,
   "metadata": {
    "id": "WhZ2xfSvgFpS"
   },
   "outputs": [],
   "source": [
    "mu = [1.0, -1.0]\n",
    "sigma=[[0.1,0.01],[0.01,0.1]]\n",
    "mi_gaussiana_2d=multivariate_normal(mean=mu,cov=sigma)"
   ]
  },
  {
   "cell_type": "markdown",
   "metadata": {
    "id": "jx24NMC7jH7I"
   },
   "source": [
    "Para graficar en 2d tenemos un par de opciones. Podemos generar datos y hacer un histograma 2d. Mientras mas dimensiones tiene un histograma, mas datos necesitamos para que sea representativo."
   ]
  },
  {
   "cell_type": "code",
   "execution_count": null,
   "metadata": {
    "id": "DO-bXPJ4jHFc"
   },
   "outputs": [],
   "source": [
    "datos=mi_gaussiana_2d.rvs(1000)"
   ]
  },
  {
   "cell_type": "code",
   "execution_count": null,
   "metadata": {
    "id": "H9t1SS_9jS3E"
   },
   "outputs": [],
   "source": [
    "datos.shape"
   ]
  },
  {
   "cell_type": "markdown",
   "metadata": {
    "id": "ocHsaEWjj45r"
   },
   "source": [
    "Definir los bins puede ser feo... Jueguen un poco y compruebenlo por ustedes mismos"
   ]
  },
  {
   "cell_type": "code",
   "execution_count": null,
   "metadata": {
    "id": "VReDRS5VjUCX"
   },
   "outputs": [],
   "source": [
    "plt.hist2d(datos[:,0],datos[:,1],bins=[10,10],cmap='plasma')\n",
    "plt.xlabel('$x_{1}$')\n",
    "plt.ylabel('$x_{2}$')\n",
    "plt.title(r'$\\mathcal{N}(\\vec{x}|\\vec{\\mu},\\Sigma)$')\n",
    "plt.colorbar()\n",
    "plt.show()"
   ]
  },
  {
   "cell_type": "markdown",
   "metadata": {
    "id": "_zR-C1bfj83-"
   },
   "source": [
    "Uno aca puede marginalizar sumando sobre alguna direccion"
   ]
  },
  {
   "cell_type": "code",
   "execution_count": null,
   "metadata": {
    "id": "wjhW1avmjXNj"
   },
   "outputs": [],
   "source": [
    "h, xedges, yedges, image = plt.hist2d(datos[:,0],datos[:,1],bins=[10,10],cmap='plasma',density='True')"
   ]
  },
  {
   "cell_type": "code",
   "execution_count": null,
   "metadata": {
    "id": "4FkP1T7ckFsc"
   },
   "outputs": [],
   "source": [
    "x1d=np.sum(h,axis=1)*(yedges[1]-yedges[0])\n",
    "x2d=np.sum(h,axis=0)*(xedges[1]-xedges[0])"
   ]
  },
  {
   "cell_type": "code",
   "execution_count": null,
   "metadata": {
    "id": "IEIVR04VkSaa"
   },
   "outputs": [],
   "source": [
    "plt.plot([0.5*(xedges[i+1]+xedges[i]) for i in range(h.shape[0])],x1d)\n",
    "plt.xlabel('$x_{1}$')\n",
    "plt.show()\n",
    "plt.plot([0.5*(yedges[i+1]+yedges[i]) for i in range(h.shape[1])],x2d)\n",
    "plt.xlabel('$x_{2}$')\n",
    "plt.show()"
   ]
  },
  {
   "cell_type": "code",
   "execution_count": null,
   "metadata": {
    "id": "TW_aVP69k16M"
   },
   "outputs": [],
   "source": [
    "np.sum(h)*(xedges[1]-xedges[0])*(yedges[1]-yedges[0])"
   ]
  },
  {
   "cell_type": "markdown",
   "metadata": {
    "id": "tY6dCm_hnRVn"
   },
   "source": [
    "Otra opcion  es utilizar el metodo 'pdf' y hacer un 'contourplot'"
   ]
  },
  {
   "cell_type": "code",
   "execution_count": null,
   "metadata": {
    "id": "8ReCOdXHmiCW"
   },
   "outputs": [],
   "source": [
    "x1=np.linspace(0.0,2.0,10)\n",
    "x2=np.linspace(-2.0,0.0,5)\n",
    "X1, X2 = np.meshgrid(x1,x2)"
   ]
  },
  {
   "cell_type": "code",
   "execution_count": null,
   "metadata": {
    "id": "Gq0sSOn2nb1l"
   },
   "outputs": [],
   "source": [
    "print(X1.shape,X2.shape)"
   ]
  },
  {
   "cell_type": "code",
   "execution_count": null,
   "metadata": {
    "id": "L49AQraInck-"
   },
   "outputs": [],
   "source": [
    "pos=np.dstack((X1, X2))\n",
    "print(pos.shape)\n",
    "Z=mi_gaussiana_2d.pdf(pos)\n",
    "print(Z.shape)"
   ]
  },
  {
   "cell_type": "code",
   "execution_count": null,
   "metadata": {
    "id": "4jbi5K6yn0p5"
   },
   "outputs": [],
   "source": [
    "plt.contourf(X1,X2,Z,cmap='gist_heat_r')\n",
    "plt.xlabel('$x_{1}$')\n",
    "plt.ylabel('$x_{2}$')\n",
    "plt.title(r'$\\mathcal{N}(\\vec{x}|\\vec{\\mu},\\Sigma)$')\n",
    "plt.colorbar()"
   ]
  },
  {
   "cell_type": "markdown",
   "metadata": {
    "id": "JXf5cHaqodwf"
   },
   "source": [
    "Y podemos superponer ambos plots"
   ]
  },
  {
   "cell_type": "code",
   "execution_count": null,
   "metadata": {
    "id": "ebLI3cyxoLB_"
   },
   "outputs": [],
   "source": [
    "plt.hist2d(datos[:,0],datos[:,1],bins=[10,10],density='True',cmap='gist_heat_r')\n",
    "plt.colorbar()\n",
    "pdfplot=plt.contour(X1,X2,Z,colors='blue')\n",
    "plt.clabel(pdfplot, inline=1, fontsize=10)\n",
    "plt.xlabel('$x_{1}$')\n",
    "plt.ylabel('$x_{2}$')\n",
    "plt.title(r'$\\mathcal{N}(\\vec{x}|\\vec{\\mu},\\Sigma)$')\n",
    "plt.show()"
   ]
  },
  {
   "cell_type": "code",
   "execution_count": null,
   "metadata": {
    "id": "4ga_S1KJoqqF"
   },
   "outputs": [],
   "source": []
  },
  {
   "cell_type": "markdown",
   "metadata": {
    "id": "MxsoHtkZrhXb"
   },
   "source": [
    "# Un lindo ejercicio si hay tiempo"
   ]
  },
  {
   "cell_type": "markdown",
   "metadata": {
    "id": "CQ08uyQQrkYz"
   },
   "source": [
    "Una enfermedad genética rara afecta al 0.1% de la población de un país. Para diagnosticarla, existe un análisis clínico que detecta la enfermedad en el 99% de los casos en los que el paciente la padece, y tiene un 1% de falsos positivos.\n",
    "\n",
    "Un paciente recibe un resultado positivo del análisis clínico.\n",
    "\n",
    "¿Qué probabilidad hay de que la persona padezca la enfermedad?"
   ]
  },
  {
   "cell_type": "code",
   "execution_count": null,
   "metadata": {
    "id": "DXTyOmN_rhms"
   },
   "outputs": [],
   "source": []
  }
 ],
 "metadata": {
  "colab": {
   "collapsed_sections": [],
   "name": "02p_Probabilidad_en_blanco.ipynb",
   "provenance": []
  },
  "kernelspec": {
   "display_name": "Python 3",
   "language": "python",
   "name": "python3"
  },
  "language_info": {
   "codemirror_mode": {
    "name": "ipython",
    "version": 3
   },
   "file_extension": ".py",
   "mimetype": "text/x-python",
   "name": "python",
   "nbconvert_exporter": "python",
   "pygments_lexer": "ipython3",
   "version": "3.8.3"
  }
 },
 "nbformat": 4,
 "nbformat_minor": 1
}
